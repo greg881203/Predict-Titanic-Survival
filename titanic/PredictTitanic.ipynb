{
 "cells": [
  {
   "cell_type": "code",
   "execution_count": 2,
   "id": "6e45796d",
   "metadata": {},
   "outputs": [],
   "source": [
    "import pandas as pd\n",
    "import numpy as np\n",
    "import matplotlib.pyplot as plt\n",
    "from sklearn.linear_model import LogisticRegression\n",
    "from sklearn.model_selection import train_test_split\n",
    "from sklearn.preprocessing import StandardScaler\n"
   ]
  },
  {
   "cell_type": "code",
   "execution_count": 17,
   "id": "0c559ddb",
   "metadata": {},
   "outputs": [],
   "source": [
    "# Load the passenger data\n",
    "passengers = pd.read_csv(\"train.csv\")\n"
   ]
  },
  {
   "cell_type": "code",
   "execution_count": 18,
   "id": "4d7453d1",
   "metadata": {},
   "outputs": [
    {
     "name": "stdout",
     "output_type": "stream",
     "text": [
      "   PassengerId  Survived  Pclass  \\\n",
      "0            1         0       3   \n",
      "1            2         1       1   \n",
      "2            3         1       3   \n",
      "3            4         1       1   \n",
      "4            5         0       3   \n",
      "5            6         0       3   \n",
      "6            7         0       1   \n",
      "7            8         0       3   \n",
      "8            9         1       3   \n",
      "9           10         1       2   \n",
      "\n",
      "                                                Name  Sex        Age  SibSp  \\\n",
      "0                            Braund, Mr. Owen Harris    0  22.000000      1   \n",
      "1  Cumings, Mrs. John Bradley (Florence Briggs Th...    1  38.000000      1   \n",
      "2                             Heikkinen, Miss. Laina    1  26.000000      0   \n",
      "3       Futrelle, Mrs. Jacques Heath (Lily May Peel)    1  35.000000      1   \n",
      "4                           Allen, Mr. William Henry    0  35.000000      0   \n",
      "5                                   Moran, Mr. James    0  29.699118      0   \n",
      "6                            McCarthy, Mr. Timothy J    0  54.000000      0   \n",
      "7                     Palsson, Master. Gosta Leonard    0   2.000000      3   \n",
      "8  Johnson, Mrs. Oscar W (Elisabeth Vilhelmina Berg)    1  27.000000      0   \n",
      "9                Nasser, Mrs. Nicholas (Adele Achem)    1  14.000000      1   \n",
      "\n",
      "   Parch            Ticket     Fare Cabin Embarked  FirstClass  SecondClass  \n",
      "0      0         A/5 21171   7.2500   NaN        S           0            0  \n",
      "1      0          PC 17599  71.2833   C85        C           1            0  \n",
      "2      0  STON/O2. 3101282   7.9250   NaN        S           0            0  \n",
      "3      0            113803  53.1000  C123        S           1            0  \n",
      "4      0            373450   8.0500   NaN        S           0            0  \n",
      "5      0            330877   8.4583   NaN        Q           0            0  \n",
      "6      0             17463  51.8625   E46        S           1            0  \n",
      "7      1            349909  21.0750   NaN        S           0            0  \n",
      "8      2            347742  11.1333   NaN        S           0            0  \n",
      "9      0            237736  30.0708   NaN        C           0            1  \n"
     ]
    }
   ],
   "source": [
    "# Update sex column to numerical\n",
    "passengers['Sex'] = passengers['Sex'].map(lambda x: 1 if x == 'female' else 0 )\n",
    "# passengers['Sex']=passengers['Sex'].map({'female':1,'male':0})\n",
    "\n",
    "# Fill the nan values in the age column\n",
    "passengers['Age'].fillna(value=passengers['Age'].mean()  ,inplace=True)\n",
    "\n",
    "# Create a first class column\n",
    "passengers['FirstClass'] = passengers['Pclass'].apply(lambda x : 1 if x == 1 else 0)\n",
    "\n",
    "# Create a second class column\n",
    "passengers['SecondClass'] = passengers['Pclass'].apply(lambda x : 1 if x == 2 else 0)\n",
    "print(passengers.head(10))"
   ]
  },
  {
   "cell_type": "code",
   "execution_count": 19,
   "id": "ce30968f",
   "metadata": {},
   "outputs": [],
   "source": [
    "# Select the desired features\n",
    "features = passengers[['Sex','Age','FirstClass','SecondClass']]\n",
    "survival = passengers['Survived']\n",
    "# Perform train, test, split\n",
    "features_train,features_test,survival_train,survival_test = train_test_split(features,survival,test_size = 0.3)"
   ]
  },
  {
   "cell_type": "code",
   "execution_count": 20,
   "id": "c96a3cbe",
   "metadata": {},
   "outputs": [],
   "source": [
    "# Scale the feature data so it has mean = 0 and standard deviation = 1\n",
    "scaler = StandardScaler()\n",
    "features_train = scaler.fit_transform(features_train)\n",
    "features_test = scaler.transform(features_test)"
   ]
  },
  {
   "cell_type": "code",
   "execution_count": 21,
   "id": "cd642e04",
   "metadata": {},
   "outputs": [
    {
     "data": {
      "text/plain": [
       "LogisticRegression()"
      ]
     },
     "execution_count": 21,
     "metadata": {},
     "output_type": "execute_result"
    }
   ],
   "source": [
    "# Create and train the model\n",
    "model = LogisticRegression()\n",
    "model.fit(features_train,survival_train)"
   ]
  },
  {
   "cell_type": "code",
   "execution_count": 22,
   "id": "c0ebb1ea",
   "metadata": {},
   "outputs": [
    {
     "name": "stdout",
     "output_type": "stream",
     "text": [
      "0.7624398073836276\n",
      "0.8283582089552238\n"
     ]
    }
   ],
   "source": [
    "# Score the model on the train data\n",
    "print(model.score(features_train,survival_train))\n",
    "\n",
    "# Score the model on the test data\n",
    "print(model.score(features_test,survival_test))"
   ]
  },
  {
   "cell_type": "code",
   "execution_count": 23,
   "id": "764b48df",
   "metadata": {},
   "outputs": [
    {
     "name": "stdout",
     "output_type": "stream",
     "text": [
      "[[ 1.14375935 -0.31121426  0.93804488  0.42906038]]\n",
      "[('Sex', 1.14375935222717), ('Age', -0.31121426105395344), ('FirstClass', 0.9380448785771832), ('SecondClass', 0.4290603787743715)]\n"
     ]
    }
   ],
   "source": [
    "# Analyze the coefficients\n",
    "print(model.coef_)\n",
    "print(list(zip(['Sex','Age','FirstClass','SecondClass'],model.coef_[0])))"
   ]
  },
  {
   "cell_type": "code",
   "execution_count": 24,
   "id": "00029bd4",
   "metadata": {},
   "outputs": [
    {
     "name": "stdout",
     "output_type": "stream",
     "text": [
      "[0 0 0]\n",
      "[[9.98902563e-01 1.09743721e-03]\n",
      " [9.78080870e-01 2.19191302e-02]\n",
      " [9.99875088e-01 1.24911854e-04]]\n"
     ]
    }
   ],
   "source": [
    "# Sample passenger features\n",
    "Jack = np.array([0.0,20.0,0.0,0.0])\n",
    "Rose = np.array([1.0,17.0,1.0,0.0])\n",
    "You = np.array([0.0,30.0,1.0,0.0])\n",
    "\n",
    "# Combine passenger arrays\n",
    "sample_passengers = np.array([Jack , Rose, You])\n",
    "\n",
    "# Scale the sample passenger features\n",
    "print(model.predict(sample_passengers))\n",
    "print(model.predict_proba(sample_passengers))"
   ]
  },
  {
   "cell_type": "code",
   "execution_count": null,
   "id": "df47d9f4",
   "metadata": {},
   "outputs": [],
   "source": []
  }
 ],
 "metadata": {
  "kernelspec": {
   "display_name": "Python 3",
   "language": "python",
   "name": "python3"
  },
  "language_info": {
   "codemirror_mode": {
    "name": "ipython",
    "version": 3
   },
   "file_extension": ".py",
   "mimetype": "text/x-python",
   "name": "python",
   "nbconvert_exporter": "python",
   "pygments_lexer": "ipython3",
   "version": "3.8.8"
  }
 },
 "nbformat": 4,
 "nbformat_minor": 5
}
